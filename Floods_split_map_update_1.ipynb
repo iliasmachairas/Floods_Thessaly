{
 "cells": [
  {
   "cell_type": "code",
   "execution_count": 2,
   "id": "daf24cc6",
   "metadata": {},
   "outputs": [],
   "source": [
    "import ee\n",
    "import folium\n",
    "import geemap.foliumap as geemap\n",
    "\n",
    "import matplotlib.pyplot as plt\n",
    "%matplotlib inline"
   ]
  },
  {
   "cell_type": "markdown",
   "id": "eb4bfc36",
   "metadata": {},
   "source": [
    "# Package website\n",
    " https://geemap.org/"
   ]
  },
  {
   "cell_type": "code",
   "execution_count": 1,
   "id": "6fe400f3",
   "metadata": {
    "scrolled": false
   },
   "outputs": [],
   "source": [
    "# import ee\n",
    "# import geemap\n",
    "\n",
    "# Map = geemap.Map()\n",
    "# import geemap\n",
    "\n",
    "# Map = geemap.Map()\n",
    "\n",
    "# countries = ee.FeatureCollection(\"FAO/GAUL/2015/level1\")\n",
    "# thessalia = countries.filter(ee.Filter.eq('ADM1_NAME','Thessalia'))\n",
    "\n",
    "\n",
    "# Map.centerObject(thessalia, 8)\n",
    "# Map.addLayer(thessalia, {'fillColor': 'blue', 'fillOpacity': 0.5, 'color': 'blue'}, 'Thessalia')\n",
    "\n",
    "# Map"
   ]
  },
  {
   "cell_type": "code",
   "execution_count": 15,
   "id": "961090c8",
   "metadata": {
    "scrolled": false
   },
   "outputs": [
    {
     "data": {
      "application/vnd.jupyter.widget-view+json": {
       "model_id": "527991b90fde46499314eefe3fcea28d",
       "version_major": 2,
       "version_minor": 0
      },
      "text/plain": [
       "Map(center=[38, 22], controls=(ZoomControl(options=['position', 'zoom_in_text', 'zoom_in_title', 'zoom_out_tex…"
      ]
     },
     "execution_count": 15,
     "metadata": {},
     "output_type": "execute_result"
    }
   ],
   "source": [
    "import ee\n",
    "import geemap\n",
    "\n",
    "\n",
    "Map = geemap.Map()\n",
    "\n",
    "countries = ee.FeatureCollection(\"FAO/GAUL/2015/level1\")\n",
    "thessalia = countries.filter(ee.Filter.eq('ADM1_NAME','Thessalia'))\n",
    "\n",
    "# Functions\n",
    "def calculate_ndvi(image):\n",
    "    ndvi = image.normalizedDifference([\"B8\", \"B4\"])\n",
    "    return ndvi\n",
    "\n",
    "def calculate_ndwi(image):\n",
    "    ndvi = image.normalizedDifference([\"B8\", \"B3\"])\n",
    "    return ndvi\n",
    "\n",
    "def calculate_mndwi(image):\n",
    "    ndvi = image.normalizedDifference([\"B11\", \"B3\"])\n",
    "    return ndvi\n",
    "\n",
    "def calculate_ndmi(image):\n",
    "    ndvi = image.normalizedDifference([\"B11\", \"B8\"])\n",
    "    return ndvi\n",
    "\n",
    "## Before the event\n",
    "sentinel2_before = ee.ImageCollection('COPERNICUS/S2')\\\n",
    ".filterDate('2023-08-31', '2023-09-01').filterBounds(thessalia)\n",
    "\n",
    "\n",
    "# Applyinh the indices\n",
    "ndvi_collection_before = sentinel2_before.map(calculate_ndvi)\n",
    "ndwi_collection_before = sentinel2_before.map(calculate_ndwi)\n",
    "mndwi_collection_before = sentinel2_before.map(calculate_mndwi)\n",
    "ndmi_collection_before = sentinel2_before.map(calculate_ndmi)\n",
    "\n",
    "## after the event \n",
    "sentinel2_after = ee.ImageCollection('COPERNICUS/S2')\\\n",
    ".filterDate('2023-09-10', '2023-09-11').filterBounds(thessalia)\n",
    "\n",
    "\n",
    "# Applyinh the indices\n",
    "ndvi_collection_after = sentinel2_after.map(calculate_ndvi)\n",
    "ndwi_collection_after = sentinel2_after.map(calculate_ndwi)\n",
    "mndwi_collection_after = sentinel2_after.map(calculate_mndwi)\n",
    "ndmi_collection_after = sentinel2_after.map(calculate_ndmi)\n",
    "\n",
    "# Calculate NDVI for each image in the collection\n",
    "\n",
    "ndvi_vis = {\"min\": -1, \"max\": 1, \"palette\": [\"red\", \"yellow\", \"green\"]}\n",
    "ndwi_vis = {\"min\": -1, \"max\": 1, \"palette\": [\"green\", \"white\", \"blue\"]}\n",
    "\n",
    "vis_S2 = {\n",
    "    'bands': ['B4', 'B3', 'B2'],  # Display the true-color bands (red, green, blue)\n",
    "    'min': 0,\n",
    "    'max': 3000\n",
    "}\n",
    "\n",
    "# Map.addLayer(sentinel2, vis_S2, 'Sentinel')\n",
    "# Map.addLayer(ndvi_collection_before, ndvi_vis, 'NDVI')\n",
    "\n",
    "# Map.addLayer(ndvi_collection_after, ndvi_vis, 'NDVI')\n",
    "\n",
    "left_layer = geemap.ee_tile_layer(ndvi_collection_before, ndvi_vis, name='NDVI before')\n",
    "right_layer = geemap.ee_tile_layer(ndvi_collection_after, ndvi_vis, name='NDVI after')\n",
    "\n",
    "Map.split_map(left_layer, right_layer)\n",
    "Map.setCenter(22, 38, 7)\n",
    "Map\n"
   ]
  },
  {
   "cell_type": "code",
   "execution_count": 22,
   "id": "39d9d5ad",
   "metadata": {},
   "outputs": [
    {
     "data": {
      "application/vnd.jupyter.widget-view+json": {
       "model_id": "3002600c2c8d42ce8dcf07d2c69f9070",
       "version_major": 2,
       "version_minor": 0
      },
      "text/plain": [
       "Map(center=[38, 22], controls=(ZoomControl(options=['position', 'zoom_in_text', 'zoom_in_title', 'zoom_out_tex…"
      ]
     },
     "execution_count": 22,
     "metadata": {},
     "output_type": "execute_result"
    }
   ],
   "source": [
    "import ee\n",
    "import geemap\n",
    "\n",
    "Map = geemap.Map()\n",
    "\n",
    "countries = ee.FeatureCollection(\"FAO/GAUL/2015/level1\")\n",
    "thessalia = countries.filter(ee.Filter.eq('ADM1_NAME', 'Thessalia'))\n",
    "\n",
    "# Functions\n",
    "def calculate_ndwi(image):\n",
    "    ndwi = image.normalizedDifference([\"B8\", \"B3\"])\n",
    "    return ndwi\n",
    "\n",
    "# Create a binary mask image where masked areas are set to 1\n",
    "mask_image = ee.Image(1).clip(thessalia).mask()\n",
    "\n",
    "## Before the event\n",
    "sentinel2_before = ee.ImageCollection('COPERNICUS/S2')\\\n",
    "    .filterDate('2023-08-31', '2023-09-01').filterBounds(thessalia)\n",
    "\n",
    "# Applying the NDWI index\n",
    "ndwi_collection_before = sentinel2_before.map(calculate_ndwi)\n",
    "\n",
    "## After the event\n",
    "sentinel2_after = ee.ImageCollection('COPERNICUS/S2')\\\n",
    "    .filterDate('2023-09-10', '2023-09-11').filterBounds(thessalia)\n",
    "\n",
    "# Applying the NDWI index\n",
    "ndwi_collection_after = sentinel2_after.map(calculate_ndwi)\n",
    "\n",
    "# Update the mask of NDWI collections using the binary mask\n",
    "ndwi_collection_before_masked = ndwi_collection_before.map(lambda image: image.updateMask(mask_image))\n",
    "ndwi_collection_after_masked = ndwi_collection_after.map(lambda image: image.updateMask(mask_image))\n",
    "\n",
    "ndwi_vis = {\"min\": -1, \"max\": 1, \"palette\": [\"green\", \"white\", \"blue\"]}\n",
    "\n",
    "left_layer = geemap.ee_tile_layer(ndwi_collection_before_masked, ndwi_vis, name='NDWI before')\n",
    "right_layer = geemap.ee_tile_layer(ndwi_collection_after_masked, ndwi_vis, name='NDWI after')\n",
    "\n",
    "\n",
    "\n",
    "Map.split_map(left_layer, right_layer, left_label='Before the event',\n",
    "    right_label='After the event', widget_layout=widget_layout)\n",
    "Map.setCenter(22, 38, 7)\n",
    "Map\n"
   ]
  },
  {
   "cell_type": "code",
   "execution_count": 23,
   "id": "3b776ed2",
   "metadata": {},
   "outputs": [
    {
     "data": {
      "application/vnd.jupyter.widget-view+json": {
       "model_id": "7a39c257ef154f50a7d27c2a175da71d",
       "version_major": 2,
       "version_minor": 0
      },
      "text/plain": [
       "Map(center=[38, 22], controls=(WidgetControl(options=['position', 'transparent_bg'], widget=HBox(children=(Tog…"
      ]
     },
     "execution_count": 23,
     "metadata": {},
     "output_type": "execute_result"
    }
   ],
   "source": [
    "import ee\n",
    "import geemap\n",
    "\n",
    "Map = geemap.Map()\n",
    "import geemap\n",
    "\n",
    "Map = geemap.Map()\n",
    "\n",
    "# GPM V6 30 minute data around hurricane Dorian for a single day.\n",
    "\n",
    "\n",
    "startDate = ee.Date('2023-09-01')\n",
    "endDate = ee.Date('2023-09-06');  # Adjust as needed\n",
    "\n",
    "# Define the date range for the period\n",
    "dateRange = ee.DateRange(startDate, endDate)\n",
    "\n",
    "dataset = ee.ImageCollection('NASA/GPM_L3/IMERG_V06') \\\n",
    "    .filter(ee.Filter.date(dateRange)) \\\n",
    "\n",
    "# Select the max precipitation and mask out low precipitation values.\n",
    "precipitation = dataset.select('precipitationCal').max()\n",
    "mask = precipitation.gt(0.5)\n",
    "precipitation = precipitation.updateMask(mask)\n",
    "\n",
    "palette = [\n",
    "  '000096','0064ff', '00b4ff', '33db80', '9beb4a',\n",
    "  'ffeb00', 'ffb300', 'ff6400', 'eb1e00', 'af0000'\n",
    "]\n",
    "precipitationVis = {'min': 0, 'max': 15, 'palette': palette}\n",
    "Map.addLayer(precipitation, precipitationVis, 'Precipitation (mm/hr)')\n",
    "\n",
    "Map.setCenter(22, 38, 7)\n",
    "\n",
    "Map"
   ]
  }
 ],
 "metadata": {
  "kernelspec": {
   "display_name": "Python 3 (ipykernel)",
   "language": "python",
   "name": "python3"
  },
  "language_info": {
   "codemirror_mode": {
    "name": "ipython",
    "version": 3
   },
   "file_extension": ".py",
   "mimetype": "text/x-python",
   "name": "python",
   "nbconvert_exporter": "python",
   "pygments_lexer": "ipython3",
   "version": "3.9.16"
  }
 },
 "nbformat": 4,
 "nbformat_minor": 5
}
